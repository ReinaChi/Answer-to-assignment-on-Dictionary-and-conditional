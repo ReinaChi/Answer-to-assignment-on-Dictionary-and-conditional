{
 "cells": [
  {
   "cell_type": "markdown",
   "id": "60805837",
   "metadata": {},
   "source": [
    "# 1."
   ]
  },
  {
   "cell_type": "code",
   "execution_count": null,
   "id": "1bcf8836",
   "metadata": {},
   "outputs": [],
   "source": [
    "a=int(input(\"side 1: \"))\n",
    "b=int(input(\"side 2: \"))\n",
    "c=int(input(\"side 3: \"))\n",
    "\n",
    "print(\"Input lengths of the triangle sides: \")\n",
    "\n",
    "if a==b and a==c:\n",
    "    print(\"Equilateral triangle\")\n",
    "    \n",
    "elif a==b or b==c or c==a:\n",
    "    print(\"isosceles triangle\")\n",
    "    \n",
    "else:\n",
    "    print(\"Scalene triangle\")"
   ]
  },
  {
   "cell_type": "markdown",
   "id": "d6d22bd4",
   "metadata": {},
   "source": [
    "# 2"
   ]
  },
  {
   "cell_type": "code",
   "execution_count": null,
   "id": "bb3530b2",
   "metadata": {},
   "outputs": [],
   "source": [
    "demo = { \"name\": \"Naeto\", \"age\": \"6years\", \"hobbies\": \"watching cartoons\", \"siblings\": \"yes,2\", \"favourite persons\":\n",
    "       \"mum & anuty chioma\"}"
   ]
  },
  {
   "cell_type": "code",
   "execution_count": null,
   "id": "940e04ad",
   "metadata": {},
   "outputs": [],
   "source": [
    "demo.get(\"age\")"
   ]
  },
  {
   "cell_type": "markdown",
   "id": "b4119143",
   "metadata": {},
   "source": [
    "# 3"
   ]
  },
  {
   "cell_type": "code",
   "execution_count": null,
   "id": "7fb554a0",
   "metadata": {},
   "outputs": [],
   "source": [
    "demo = { \"name\": \"Naeto\", \"age\": \"6years\", \"hobbies\": \"watching cartoons\", \"siblings\": \"yes,2\", \"favourite persons\":\n",
    "       \"mum & anuty chioma\", \"complexion\": \"chocolate\"}"
   ]
  },
  {
   "cell_type": "code",
   "execution_count": null,
   "id": "b005f720",
   "metadata": {},
   "outputs": [],
   "source": [
    "demo.pop(\"complexion\")\n",
    "print(demo)"
   ]
  },
  {
   "cell_type": "markdown",
   "id": "01c56d56",
   "metadata": {},
   "source": [
    "# 4"
   ]
  },
  {
   "cell_type": "code",
   "execution_count": 7,
   "id": "c34c19f2",
   "metadata": {},
   "outputs": [],
   "source": [
    "info = {\"Name\": \"Chimamanda Zoe\", \"Location\": \"Amsterdam\", \"Gender\": \"Pretty lass\", \"Age\": \"Not quite sure\"}"
   ]
  },
  {
   "cell_type": "code",
   "execution_count": 8,
   "id": "08273b68",
   "metadata": {},
   "outputs": [
    {
     "name": "stdout",
     "output_type": "stream",
     "text": [
      "{'Name': 'Chimamanda Zoe', 'Gender': 'Pretty lass', 'Age': 'Not quite sure', 'City': 'Amsterdam'}\n"
     ]
    }
   ],
   "source": [
    "info['City'] = info.pop(\"Location\")\n",
    "print(info)"
   ]
  },
  {
   "cell_type": "markdown",
   "id": "acdc9092",
   "metadata": {},
   "source": [
    "# 5"
   ]
  },
  {
   "cell_type": "code",
   "execution_count": 19,
   "id": "743e64e8",
   "metadata": {},
   "outputs": [],
   "source": [
    "details = {'person1': {'name': 'Chioma', 'salary': 7500, 'age': 22}, \n",
    "           'person2': {'name': 'Tosin', 'salary': 8000, 'age': 25},\n",
    "           'person3': {'name': 'Promise', 'salary': 6500, 'age': 28}}"
   ]
  },
  {
   "cell_type": "code",
   "execution_count": 14,
   "id": "0a484e71",
   "metadata": {},
   "outputs": [
    {
     "data": {
      "text/plain": [
       "dict_values([{'name': 'Chioma', 'salary': 7500, 'age': 22}, {'name': 'Tosin', 'salary': 8000, 'age': 25}, {'name': 'Promise', 'salary': 6500, 'age': 28}])"
      ]
     },
     "execution_count": 14,
     "metadata": {},
     "output_type": "execute_result"
    }
   ],
   "source": [
    "details.values()"
   ]
  },
  {
   "cell_type": "code",
   "execution_count": 37,
   "id": "ff229b3e",
   "metadata": {},
   "outputs": [
    {
     "name": "stdout",
     "output_type": "stream",
     "text": [
      "{'person1': {'name': 'Chioma', 'salary': 7500, 'age': 22}, 'person2': {'name': 'Tosin', 'salary': 9000, 'age': 25}, 'person3': {'name': 'Promise', 'salary': 6500, 'age': 28}}\n"
     ]
    }
   ],
   "source": [
    "details['person2']['salary']  = 9000\n",
    "print(details)"
   ]
  },
  {
   "cell_type": "code",
   "execution_count": 35,
   "id": "c124ff12",
   "metadata": {},
   "outputs": [
    {
     "name": "stdout",
     "output_type": "stream",
     "text": [
      "person1 {'name': 'Chioma', 'salary': 7500, 'age': 22}\n",
      "person2 {'name': 'Tosin', 'salary': 9000, 'age': 25}\n",
      "person3 {'name': 'Promise', 'salary': 6500, 'age': 28}\n"
     ]
    }
   ],
   "source": [
    "for x, y in details.items():\n",
    "    print(x, y)\n",
    "\n"
   ]
  },
  {
   "cell_type": "markdown",
   "id": "0c88c277",
   "metadata": {},
   "source": [
    "# 6"
   ]
  },
  {
   "cell_type": "code",
   "execution_count": 43,
   "id": "046cbb47",
   "metadata": {},
   "outputs": [],
   "source": [
    "months = \"January\", \"February\", \"March\", \"April\", \"May\", \"June\", \"July\", \"August\", \"September\", \"October\", \"November\", \"December\""
   ]
  },
  {
   "cell_type": "code",
   "execution_count": 49,
   "id": "c570c76c",
   "metadata": {},
   "outputs": [
    {
     "name": "stdout",
     "output_type": "stream",
     "text": [
      "Input the name of Month: February\n",
      "No. of days: 28/29 days\n"
     ]
    }
   ],
   "source": [
    "months_name = input(\"Input the name of Month: \")\n",
    "\n",
    "if months_name == \"February\":\n",
    "    print(\"No. of days: 28/29 days\")\n",
    "elif months_name in (\"April\", \"June\", \"September\", \"November\"):\n",
    "    print(\"No. of days: 30 days\")\n",
    "elif months_name in (\"January\", \"March\", \"May\", \"July\", \"August\", \"October\", \"December\"):\n",
    "    print(\"No. of days: 31 day\")\n",
    "else:\n",
    "    print(\"Wrong month name\") "
   ]
  },
  {
   "cell_type": "markdown",
   "id": "7cba92ae",
   "metadata": {},
   "source": [
    "# 7"
   ]
  },
  {
   "cell_type": "code",
   "execution_count": 50,
   "id": "9ab1e497",
   "metadata": {},
   "outputs": [],
   "source": [
    "name = \"James\""
   ]
  },
  {
   "cell_type": "code",
   "execution_count": 57,
   "id": "87393f51",
   "metadata": {},
   "outputs": [
    {
     "name": "stdout",
     "output_type": "stream",
     "text": [
      "Enter your name: James\n",
      "Welcome on board, James.\n"
     ]
    }
   ],
   "source": [
    "login_name = input(\"Enter your name: \")\n",
    "\n",
    "if login_name == name:\n",
    "    print(\"Welcome on board, {}.\".format(name))\n",
    "    \n",
    "else:\n",
    "    print(\"Okurr! you wrong.\")"
   ]
  },
  {
   "cell_type": "code",
   "execution_count": 56,
   "id": "f9a88458",
   "metadata": {},
   "outputs": [
    {
     "name": "stdout",
     "output_type": "stream",
     "text": [
      "Enter your name: amaka\n",
      "Okurr! you wrong.\n"
     ]
    }
   ],
   "source": [
    "login_name = input(\"Enter your name: \")\n",
    "\n",
    "if login_name == name:\n",
    "    print(\"Welcome on board, {}.\".format(name))\n",
    "    \n",
    "else:\n",
    "    print(\"Okurr! you wrong.\")"
   ]
  },
  {
   "cell_type": "markdown",
   "id": "75b7fb06",
   "metadata": {},
   "source": [
    "# 8"
   ]
  },
  {
   "cell_type": "code",
   "execution_count": 5,
   "id": "3fe702ce",
   "metadata": {},
   "outputs": [
    {
     "name": "stdout",
     "output_type": "stream",
     "text": [
      "Enter number: 5\n",
      "True num is divisble by 3\n"
     ]
    }
   ],
   "source": [
    "num = int(input(\"Enter number: \"))\n",
    "\n",
    "if num // 3:\n",
    "    print(True, \"num is divisble by 3\")\n",
    "        \n",
    "else:\n",
    "    print (False, \"num is not divsible by 3\")\n"
   ]
  },
  {
   "cell_type": "markdown",
   "id": "fafd5dde",
   "metadata": {},
   "source": [
    "# 9"
   ]
  },
  {
   "cell_type": "code",
   "execution_count": null,
   "id": "733a688f",
   "metadata": {},
   "outputs": [],
   "source": [
    "score = (\"Below 40 - F, 41 to 44 - E, 45 to 49 - D, 50 to 60 - C, 60 to 69 - B, 70 and above - A\")"
   ]
  },
  {
   "cell_type": "code",
   "execution_count": 1,
   "id": "cd2cc420",
   "metadata": {},
   "outputs": [
    {
     "name": "stdout",
     "output_type": "stream",
     "text": [
      "Enter your score: 66\n",
      "You got a B\n"
     ]
    }
   ],
   "source": [
    "login_score = int(input(\"Enter your score: \"))\n",
    "\n",
    "if login_score >= 70:\n",
    "    print(\"You got an A\")\n",
    "     \n",
    "elif login_score >= 60:\n",
    "    print(\"You got a B\")\n",
    "        \n",
    "elif login_score >= 50:\n",
    "    print(\"You had a C\")\n",
    "            \n",
    "elif login_score >= 45:\n",
    "     print(\"D, you can do better\")\n",
    "                \n",
    "elif login_score >= 41:\n",
    "    print(\"E, You have to resit this course\")\n",
    "                    \n",
    "elif login_score <= 40:\n",
    "    print(\"F, you failed this course\")\n",
    "                        \n",
    "else:\n",
    "    print(\"wrong details\")"
   ]
  },
  {
   "cell_type": "markdown",
   "id": "18efa3e4",
   "metadata": {},
   "source": [
    "# 10"
   ]
  },
  {
   "cell_type": "code",
   "execution_count": null,
   "id": "1666b4c0",
   "metadata": {},
   "outputs": [],
   "source": [
    "salary = int(input(\"Enter your salary: \"))\n",
    "\n",
    "service_yrs = int(input(\"Enter Years of service: \"))\n",
    "\n",
    "Bonus = 5/100\n",
    "\n",
    "\n",
    "if service_yrs >= 5:\n",
    "     print(\"{} * 5 + {}\".format((salary), (Bonus)))\n",
    "\n",
    "else:\n",
    "    print(\"You are not eligible for bonus as you have less service years.\")"
   ]
  },
  {
   "cell_type": "code",
   "execution_count": 4,
   "id": "c438d751",
   "metadata": {},
   "outputs": [
    {
     "name": "stdout",
     "output_type": "stream",
     "text": [
      "Enter your salary: 5000\n",
      "Enter Years of service: 5\n",
      "Total salary = 5000 * 5 + 0.05 \n"
     ]
    }
   ],
   "source": [
    "salary = int(input(\"Enter your salary: \"))\n",
    "\n",
    "service_yrs = int(input(\"Enter Years of service: \"))\n",
    "\n",
    "bonus = 5/100\n",
    "bonus_ = salary * bonus\n",
    "\n",
    "if service_yrs >= 5:\n",
    "\n",
    "    print(\"Total salary = {} * {} + {} \".format((salary), (service_yrs), (bonus)))\n",
    "\n",
    "else:\n",
    "    print(\"You are not eligible for bonus as you have less service years.\")"
   ]
  },
  {
   "cell_type": "markdown",
   "id": "ed88c938",
   "metadata": {},
   "source": [
    "Apologises, i give up at this stage. Dont know what next to do. Awaiting your review, thank you."
   ]
  }
 ],
 "metadata": {
  "kernelspec": {
   "display_name": "Python 3",
   "language": "python",
   "name": "python3"
  },
  "language_info": {
   "codemirror_mode": {
    "name": "ipython",
    "version": 3
   },
   "file_extension": ".py",
   "mimetype": "text/x-python",
   "name": "python",
   "nbconvert_exporter": "python",
   "pygments_lexer": "ipython3",
   "version": "3.8.8"
  }
 },
 "nbformat": 4,
 "nbformat_minor": 5
}
